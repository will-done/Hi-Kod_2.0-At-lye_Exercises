{
  "cells": [
    {
      "cell_type": "code",
      "source": [
        "#soru 1: Kullanıcıdan maaş bilgisini istenir ve hesaplamalar yapılır.\n",
        "maas = float(input(\"lütfen maaşınızı girin : \"))\n",
        "\n",
        "#vergi oranlarını belirleme\n",
        "if maas <= 10000:\n",
        "  vergi_orani = 0.05\n",
        "elif maas <= 25000:\n",
        "  vergi_orani = 0.10\n",
        "elif maas <= 45000:\n",
        "  vergi_orani = 0.25\n",
        "else:\n",
        "  vergi_orani = 0.30\n",
        "\n",
        "vergi_miktari = maas * vergi_orani\n",
        "\n",
        "net_maas = maas - vergi_miktari\n",
        "\n",
        "#sonuçlar ekrana yazdırılır\n",
        "print(f\"Brüt maaş: {maas} TL\")\n",
        "print(f\"Vergi oranı: %{vergi_orani * 100}\")\n",
        "print(f\"Kesilen vergi miktarı: {vergi_miktari} TL\")\n",
        "print(f\"Net maaş: {net_maas } TL\")"
      ],
      "metadata": {
        "colab": {
          "base_uri": "https://localhost:8080/"
        },
        "id": "0EOMeaNlMlmh",
        "outputId": "e709530a-8d10-40c1-9a84-ecc554f68947"
      },
      "execution_count": 4,
      "outputs": [
        {
          "output_type": "stream",
          "name": "stdout",
          "text": [
            "lütfen maaşınızı girin : 300000\n",
            "Brüt maaş: 300000.0 TL\n",
            "Vergi oranı: %30.0\n",
            "Kesilen vergi miktarı: 90000.0 TL\n",
            "Net maaş: 210000.0 TL\n"
          ]
        }
      ]
    },
    {
      "cell_type": "code",
      "source": [
        "#soru 2: Kullanıcı ve şifre oluşturma\n",
        "kullanici_adi = input(\"Kullanıcı adınızı oluşturunuz: \")\n",
        "sifre = input(\"Şifrenizi oluşturunuz: \")\n",
        "\n",
        "#şifrenin uzunluğunu kontrol eden koşul\n",
        "if len(sifre) >= 6:\n",
        "  print(\"Şifre başarıyla oluşturuldu.\")\n",
        "else:\n",
        "  print(\"Şifreniz en az 6 karakter olmalıdır.\")"
      ],
      "metadata": {
        "colab": {
          "base_uri": "https://localhost:8080/"
        },
        "id": "2-WzQbhGOnZ-",
        "outputId": "fccf51cd-de64-41ed-8e87-f5e3befe8d81"
      },
      "execution_count": 5,
      "outputs": [
        {
          "output_type": "stream",
          "name": "stdout",
          "text": [
            "Kullanıcı adınızı oluşturunuz: vildan\n",
            "Şifrenizi oluşturunuz: 3456\n",
            "Şifreniz en az 6 karakter olmalıdır.\n"
          ]
        }
      ]
    },
    {
      "cell_type": "code",
      "source": [
        "#soru 3:\n",
        "kullanici_adi = input(\"Kullanıcı adınızı oluşturun: \")\n",
        "\n",
        "#şifre oluşturma döngüsü\n",
        "while True:\n",
        "  sifre = input(\"Şifrenizi oluşturun (5 ile 10 karakter arasında olmalıdır): \")\n",
        "  #şifrenin uzunluğunu kontrol eden koşul\n",
        "  if 5 <= len(sifre) <= 10:\n",
        "    print(\"Şifre başarıyla oluşturuldu.\")\n",
        "    break\n",
        "  else:\n",
        "    print(\"Lütfen girdiğiniz şifre 5 haneden az, 10 haneden fazla olmasın!\")"
      ],
      "metadata": {
        "colab": {
          "base_uri": "https://localhost:8080/"
        },
        "id": "5JKVhf0nPp-s",
        "outputId": "e8a7cd7f-0332-4ef8-ec40-eb0d7f28815c"
      },
      "execution_count": 6,
      "outputs": [
        {
          "output_type": "stream",
          "name": "stdout",
          "text": [
            "Kullanıcı adınızı oluşturun: vildna\n",
            "Şifrenizi oluşturun (5 ile 10 karakter arasında olmalıdır): 346788986543324\n",
            "Lütfen girdiğiniz şifre 5 haneden az, 10 haneden fazla olmasın!\n",
            "Şifrenizi oluşturun (5 ile 10 karakter arasında olmalıdır): 3456789\n",
            "Şifre başarıyla oluşturuldu.\n"
          ]
        }
      ]
    },
    {
      "cell_type": "code",
      "source": [
        "#soru 4: Kullanıcıya üç hak verilir ve doğru şifre girilmezse program sonlanır.\n",
        "\n",
        "#önceden tanımlı kullanıcı adı ve şifre\n",
        "dogru_sifre = \"123456\"\n",
        "dogru_isim = \"vildan\"\n",
        "isim = input(\"Kullanıcı adınızı girin: \")\n",
        "#kullanıcının şifreyi doğru girme deneme hakkı\n",
        "hak = 3\n",
        "#şifre deneme döngüsü\n",
        "while hak > 0:\n",
        "  sifre = input(\"Şifrenizi girin: \")\n",
        "  if sifre == dogru_sifre and isim == dogru_isim:\n",
        "    print(\"Giriş yapıldı.\")\n",
        "    break\n",
        "  else:\n",
        "    #yanlış şifre girildiyse uyarı verilir ve hak azalır.\n",
        "    hak -= 1\n",
        "    if hak > 0:\n",
        "      print(f\"Yanlış şifre girildi! Kalan hakkınız: {hak}\")\n",
        "    else:\n",
        "      print(\"Üç yanlış deneme yaptınız. Program sonlandırılıyor.\")"
      ],
      "metadata": {
        "colab": {
          "base_uri": "https://localhost:8080/"
        },
        "id": "UmBQGzouR1cy",
        "outputId": "2d860894-9e82-4b1a-808a-9d930e521257"
      },
      "execution_count": 7,
      "outputs": [
        {
          "output_type": "stream",
          "name": "stdout",
          "text": [
            "Kullanıcı adınızı girin: vildan\n",
            "Şifrenizi girin: 456789\n",
            "Yanlış şifre girildi! Kalan hakkınız: 2\n",
            "Şifrenizi girin: 5689\n",
            "Yanlış şifre girildi! Kalan hakkınız: 1\n",
            "Şifrenizi girin: 35659\n",
            "Üç yanlış deneme yaptınız. Program sonlandırılıyor.\n"
          ]
        }
      ]
    }
  ],
  "metadata": {
    "colab": {
      "provenance": []
    },
    "kernelspec": {
      "display_name": "Python 3",
      "name": "python3"
    },
    "language_info": {
      "name": "python"
    }
  },
  "nbformat": 4,
  "nbformat_minor": 0
}