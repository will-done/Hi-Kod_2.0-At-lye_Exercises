{
  "cells": [
    {
      "cell_type": "code",
      "source": [
        "#soru 1:\n",
        "import pandas as pd\n",
        "\n",
        "# Verilen sözlük\n",
        "sozluk = {\n",
        "    \"Kategori\": [\"Giyim\", \"Giyim\", \"Ayakkabı\", \"Aksesuar\", \"Ayakkabı\", \"Giyim\", \"Aksesuar\", \"Aksesuar\", \"Ayakkabı\", \"Giyim\"],\n",
        "    \"Ürün\" : [\"Kazak\", \"T-shirt\", \"Sandalet\", \"Küpe\", \"Spor Ayakkabı\", \"Pantolon\", \"Kolye\", \"Yüzük\", \"Çizme\", \"Ceket\"],\n",
        "    \"Fiyat\" : [300, 180, 450, 50, 700, 400, 150, 80, 850, 900]\n",
        "}\n",
        "\n",
        "df = pd.DataFrame(sozluk)\n",
        "print(df)"
      ],
      "metadata": {
        "colab": {
          "base_uri": "https://localhost:8080/"
        },
        "id": "esCKca9lxNzB",
        "outputId": "11a77635-6e4f-438d-bc62-96386a753734"
      },
      "execution_count": 1,
      "outputs": [
        {
          "output_type": "stream",
          "name": "stdout",
          "text": [
            "   Kategori           Ürün  Fiyat\n",
            "0     Giyim          Kazak    300\n",
            "1     Giyim        T-shirt    180\n",
            "2  Ayakkabı       Sandalet    450\n",
            "3  Aksesuar           Küpe     50\n",
            "4  Ayakkabı  Spor Ayakkabı    700\n",
            "5     Giyim       Pantolon    400\n",
            "6  Aksesuar          Kolye    150\n",
            "7  Aksesuar          Yüzük     80\n",
            "8  Ayakkabı          Çizme    850\n",
            "9     Giyim          Ceket    900\n"
          ]
        }
      ]
    },
    {
      "cell_type": "code",
      "source": [
        "# soru 2 -1:\n",
        "kategori_bilgisi = df.loc[2, \"Kategori\"]\n",
        "print(kategori_bilgisi)"
      ],
      "metadata": {
        "colab": {
          "base_uri": "https://localhost:8080/"
        },
        "id": "7YBhvV2tyKGm",
        "outputId": "5ef0c062-26e9-44a4-e9e7-97d1817d5311"
      },
      "execution_count": 2,
      "outputs": [
        {
          "output_type": "stream",
          "name": "stdout",
          "text": [
            "Ayakkabı\n"
          ]
        }
      ]
    },
    {
      "cell_type": "code",
      "source": [
        "# srou 2-2:\n",
        "urun_bilgisi = df.loc[2, \"Ürün\"]\n",
        "print(urun_bilgisi)"
      ],
      "metadata": {
        "colab": {
          "base_uri": "https://localhost:8080/"
        },
        "id": "yKrcS9iryWl4",
        "outputId": "8d6fc5dc-bdc2-4260-82c0-de8332690e90"
      },
      "execution_count": 3,
      "outputs": [
        {
          "output_type": "stream",
          "name": "stdout",
          "text": [
            "Sandalet\n"
          ]
        }
      ]
    },
    {
      "cell_type": "code",
      "source": [
        "#soru 2- 3:\n",
        "veriler = df.loc[4:9, [\"Kategori\", \"Ürün\", \"Fiyat\"]]\n",
        "print(veriler)"
      ],
      "metadata": {
        "colab": {
          "base_uri": "https://localhost:8080/"
        },
        "id": "3vAkpch_yqAA",
        "outputId": "e3e709b5-83f1-4d4e-d429-d36dbcaef167"
      },
      "execution_count": 4,
      "outputs": [
        {
          "output_type": "stream",
          "name": "stdout",
          "text": [
            "   Kategori           Ürün  Fiyat\n",
            "4  Ayakkabı  Spor Ayakkabı    700\n",
            "5     Giyim       Pantolon    400\n",
            "6  Aksesuar          Kolye    150\n",
            "7  Aksesuar          Yüzük     80\n",
            "8  Ayakkabı          Çizme    850\n",
            "9     Giyim          Ceket    900\n"
          ]
        }
      ]
    },
    {
      "cell_type": "code",
      "source": [
        "#soru 2-4:\n",
        "urunler = df.loc[1:6, \"Ürün\"]\n",
        "print(urunler)"
      ],
      "metadata": {
        "colab": {
          "base_uri": "https://localhost:8080/"
        },
        "id": "plr-g0WByxmX",
        "outputId": "78f3cffb-bcd3-46fb-8ee4-39f4baaa16e2"
      },
      "execution_count": 5,
      "outputs": [
        {
          "output_type": "stream",
          "name": "stdout",
          "text": [
            "1          T-shirt\n",
            "2         Sandalet\n",
            "3             Küpe\n",
            "4    Spor Ayakkabı\n",
            "5         Pantolon\n",
            "6            Kolye\n",
            "Name: Ürün, dtype: object\n"
          ]
        }
      ]
    },
    {
      "cell_type": "code",
      "source": [
        "#soru 3-1:\n",
        "giyim_urunleri = df[df[\"Kategori\"] == \"Giyim\"][\"Ürün\"]\n",
        "print(\"Giyim kategorisindeki ürünler:\")\n",
        "print(giyim_urunleri)"
      ],
      "metadata": {
        "colab": {
          "base_uri": "https://localhost:8080/"
        },
        "id": "zLzSbY0yzBZm",
        "outputId": "1dba5b5a-4732-4e4c-f5a3-65b594b2154f"
      },
      "execution_count": 6,
      "outputs": [
        {
          "output_type": "stream",
          "name": "stdout",
          "text": [
            "Giyim kategorisindeki ürünler:\n",
            "0       Kazak\n",
            "1     T-shirt\n",
            "5    Pantolon\n",
            "9       Ceket\n",
            "Name: Ürün, dtype: object\n"
          ]
        }
      ]
    },
    {
      "cell_type": "code",
      "source": [
        "# srou 3-2:\n",
        "ayakkabi_urunleri = df[df[\"Kategori\"] == \"Ayakkabı\"][\"Ürün\"]\n",
        "print(\"Ayakkabı kategorisindeki ürünler:\")\n",
        "print(ayakkabi_urunleri)"
      ],
      "metadata": {
        "colab": {
          "base_uri": "https://localhost:8080/"
        },
        "id": "Z6LqTfKdzV7A",
        "outputId": "f1dbfbc5-65e0-43d4-a58a-9352abc75403"
      },
      "execution_count": 7,
      "outputs": [
        {
          "output_type": "stream",
          "name": "stdout",
          "text": [
            "Ayakkabı kategorisindeki ürünler:\n",
            "2         Sandalet\n",
            "4    Spor Ayakkabı\n",
            "8            Çizme\n",
            "Name: Ürün, dtype: object\n"
          ]
        }
      ]
    },
    {
      "cell_type": "code",
      "source": [
        "# soru 3-3:\n",
        "aksesuar_urunleri = df[df[\"Kategori\"] == \"Aksesuar\"][\"Ürün\"]\n",
        "print(\"Aksesuar kategorisindeki ürünler:\")\n",
        "print(aksesuar_urunleri)"
      ],
      "metadata": {
        "colab": {
          "base_uri": "https://localhost:8080/"
        },
        "id": "PIqvZmVmzhxu",
        "outputId": "3f5ae1b7-a287-4355-fd58-29f44109c525"
      },
      "execution_count": 8,
      "outputs": [
        {
          "output_type": "stream",
          "name": "stdout",
          "text": [
            "Aksesuar kategorisindeki ürünler:\n",
            "3     Küpe\n",
            "6    Kolye\n",
            "7    Yüzük\n",
            "Name: Ürün, dtype: object\n"
          ]
        }
      ]
    },
    {
      "cell_type": "code",
      "source": [
        "# soru 4-1:\n",
        "giyim_fiyat = df[(df[\"Kategori\"] == \"Giyim\") & (df[\"Fiyat\"] > 300)]\n",
        "print(giyim_fiyat)"
      ],
      "metadata": {
        "colab": {
          "base_uri": "https://localhost:8080/"
        },
        "id": "v25Xm_xCzpJ3",
        "outputId": "692a7e2b-fefa-451d-bd5e-2f9db22b7716"
      },
      "execution_count": 9,
      "outputs": [
        {
          "output_type": "stream",
          "name": "stdout",
          "text": [
            "  Kategori      Ürün  Fiyat\n",
            "5    Giyim  Pantolon    400\n",
            "9    Giyim     Ceket    900\n"
          ]
        }
      ]
    },
    {
      "cell_type": "code",
      "source": [
        "#soru 4-2:\n",
        "ayakkabi_fiyat = df[(df[\"Kategori\"] == \"Ayakkabı\") & (df[\"Fiyat\"] < 600)]\n",
        "print(ayakkabi_fiyat)"
      ],
      "metadata": {
        "colab": {
          "base_uri": "https://localhost:8080/"
        },
        "id": "2aWuiabxz698",
        "outputId": "5124c1cd-38f6-41ab-f99e-25ba22cb6b25"
      },
      "execution_count": 10,
      "outputs": [
        {
          "output_type": "stream",
          "name": "stdout",
          "text": [
            "   Kategori      Ürün  Fiyat\n",
            "2  Ayakkabı  Sandalet    450\n"
          ]
        }
      ]
    },
    {
      "cell_type": "code",
      "source": [
        "# soru 4-3:\n",
        "aksesuar_fiyat = df[(df[\"Kategori\"] == \"Aksesuar\") & (df[\"Fiyat\"] > 100)]\n",
        "print(aksesuar_fiyat)"
      ],
      "metadata": {
        "colab": {
          "base_uri": "https://localhost:8080/"
        },
        "id": "2copfN8kz9gl",
        "outputId": "f42b8d9f-7b8c-40fc-93ce-12359ef0718e"
      },
      "execution_count": 11,
      "outputs": [
        {
          "output_type": "stream",
          "name": "stdout",
          "text": [
            "   Kategori   Ürün  Fiyat\n",
            "6  Aksesuar  Kolye    150\n"
          ]
        }
      ]
    }
  ],
  "metadata": {
    "colab": {
      "provenance": [],
      "toc_visible": true
    },
    "kernelspec": {
      "display_name": "Python 3",
      "name": "python3"
    },
    "language_info": {
      "name": "python"
    }
  },
  "nbformat": 4,
  "nbformat_minor": 0
}