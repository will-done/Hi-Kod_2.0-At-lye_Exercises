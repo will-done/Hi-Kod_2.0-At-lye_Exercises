{
  "nbformat": 4,
  "nbformat_minor": 0,
  "metadata": {
    "colab": {
      "provenance": []
    },
    "kernelspec": {
      "name": "python3",
      "display_name": "Python 3"
    },
    "language_info": {
      "name": "python"
    }
  },
  "cells": [
    {
      "cell_type": "code",
      "source": [
        "#soru 1:\n",
        "#öğrenci notlarını içeren sözlük\n",
        "ogrenci_not = {\"vildan\": {\"matematik\": 90, \"fizik\":85, \"kimya\": 95},\n",
        "               \"kerem\" : {\"matematik\": 80, \"fizik\":75, \"kimya\": 82},\n",
        "               \"Fırat\" : {\"matematik\": 70, \"fizik\":65, \"kimya\": 72},\n",
        "               \"Şahin\" : {\"matematik\": 89, \"fizik\":78, \"kimya\": 90}}\n",
        "\n",
        "#kullanıcıdan öğrenci bilgilerinii isteme\n",
        "ogrenci_isim = input(\"Öğrenci ismini girin: \")\n",
        "ders_adi = input(\"Ders adını girin (matematik, fizik, kimya): \")\n",
        "\n",
        "# Bilgilerin kontrol edilmesi ve çıktının verilmesi\n",
        "if ogrenci_isim in ogrenci_not:\n",
        "    if ders_adi in ogrenci_not[ogrenci_isim]:\n",
        "        print(f\"{ogrenci_isim} isimli öğrencinin {ders_adi} dersi notu: {ogrenci_not[ogrenci_isim][ders_adi]}\")\n",
        "    else:\n",
        "        print(f\"{ogrenci_isim} isimli öğrencinin {ders_adi} dersi bulunamadı.\")\n",
        "else:\n",
        "    print(f\"{ogrenci_isim} isimli öğrenci bulunamadı.\")"
      ],
      "metadata": {
        "colab": {
          "base_uri": "https://localhost:8080/"
        },
        "id": "YxZl8GxuFsWt",
        "outputId": "cef14f24-7157-40c9-9e33-8d5f7efd108e"
      },
      "execution_count": 3,
      "outputs": [
        {
          "output_type": "stream",
          "name": "stdout",
          "text": [
            "Öğrenci ismini girin: vildan\n",
            "Ders adını girin (matematik, fizik, kimya): kimya\n",
            "vildan isimli öğrencinin kimya dersi notu: 95\n"
          ]
        }
      ]
    },
    {
      "cell_type": "code",
      "source": [
        "#soru 2 :\n",
        "#a) değerleri değiştirme işlemleri\n",
        "ogrenci_isim = input(\"Notunu değiştirmek istediğiniz öğrencinin ismi: \")\n",
        "ders_adi = input(\"Hangi dersin notunu değiştirmek istiyorsunuz?: \")\n",
        "yeni_not = int(input(f\"{ogrenci_isim} için yeni {ders_adi} notunu girin: \"))\n",
        "\n",
        "if ogrenci_isim in ogrenci_not and ders_adi in ogrenci_not[ogrenci_isim]:\n",
        "    ogrenci_not[ogrenci_isim][ders_adi] = yeni_not\n",
        "    print(f\"{ogrenci_isim} için {ders_adi} notu başarıyla {yeni_not} olarak güncellendi.\")\n",
        "else:\n",
        "    print(\"Öğrenci ya da ders bulunamadı.\")\n"
      ],
      "metadata": {
        "colab": {
          "base_uri": "https://localhost:8080/"
        },
        "id": "7LOplEzFJn13",
        "outputId": "dacaec44-0e18-42cb-bf87-c86dc21f75da"
      },
      "execution_count": 4,
      "outputs": [
        {
          "output_type": "stream",
          "name": "stdout",
          "text": [
            "Notunu değiştirmek istediğiniz öğrencinin ismi: kerem\n",
            "Hangi dersin notunu değiştirmek istiyorsunuz? (Matematik, Fizik, Kimya): kimya\n",
            "kerem için yeni kimya notunu girin: 70\n",
            "kerem için kimya notu başarıyla 70 olarak güncellendi.\n"
          ]
        }
      ]
    },
    {
      "cell_type": "code",
      "source": [
        "#b) yeni öğrenci ekleme kısmı\n",
        "yeni_ogrenci = input(\"Yeni öğrencinin ismi: \")\n",
        "matematik_notu = int(input(f\"{yeni_ogrenci} için Matematik notunu girin: \"))\n",
        "fizik_notu = int(input(f\"{yeni_ogrenci} için Fizik notunu girin: \"))\n",
        "kimya_notu = int(input(f\"{yeni_ogrenci} için Kimya notunu girin: \"))\n",
        "\n",
        "ogrenci_not[yeni_ogrenci] = {\"Matematik\": matematik_notu, \"Fizik\": fizik_notu, \"Kimya\": kimya_notu}\n",
        "print(f\"{yeni_ogrenci} isimli öğrenci başarıyla eklendi.\")\n"
      ],
      "metadata": {
        "colab": {
          "base_uri": "https://localhost:8080/"
        },
        "id": "sOy8qcTFLQXU",
        "outputId": "e09968a0-45dd-42aa-d9a7-acf77d8d4bc6"
      },
      "execution_count": 5,
      "outputs": [
        {
          "output_type": "stream",
          "name": "stdout",
          "text": [
            "Yeni öğrencinin ismi: ali\n",
            "ali için Matematik notunu girin: 60\n",
            "ali için Fizik notunu girin: 39\n",
            "ali için Kimya notunu girin: 79\n",
            "ali isimli öğrenci başarıyla eklendi.\n"
          ]
        }
      ]
    }
  ]
}