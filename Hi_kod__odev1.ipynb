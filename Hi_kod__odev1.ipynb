{
  "nbformat": 4,
  "nbformat_minor": 0,
  "metadata": {
    "colab": {
      "provenance": []
    },
    "kernelspec": {
      "name": "python3",
      "display_name": "Python 3"
    },
    "language_info": {
      "name": "python"
    }
  },
  "cells": [
    {
      "cell_type": "code",
      "execution_count": 5,
      "metadata": {
        "id": "f8-KHNg4xWOD",
        "colab": {
          "base_uri": "https://localhost:8080/"
        },
        "outputId": "dce37821-bef0-43ae-dc59-fccdedad4718"
      },
      "outputs": [
        {
          "output_type": "stream",
          "name": "stdout",
          "text": [
            "5 10 3.14 46.4\n",
            "5.0 10 3 46.4\n"
          ]
        }
      ],
      "source": [
        "#soru 1 : Değişkenlere atanmış değerlerin veri tipleri arasında dönüşüm yapma işlemleri.\n",
        "x= 5\n",
        "y= \"10\"\n",
        "z = 3.14\n",
        "v= \"46.4\"\n",
        "print(x, y,z, v)\n",
        "\n",
        "\n",
        "x_to_float = float(x)\n",
        "y_to_int= int(y)\n",
        "z_to_int = int(z)\n",
        "v_to_float = float(v)\n",
        "print(x_to_float, y_to_int, z_to_int, v_to_float)\n"
      ]
    },
    {
      "cell_type": "code",
      "source": [
        " #soru 2: İsimlerde oluşan üç değişkene yaş değerleri atanması ve karşılaştırma yapılması.\n",
        "jesus = 25\n",
        "fırat = 30\n",
        "vildan = 20\n",
        "\n",
        "is_jesus_older_than_vildan =  jesus > vildan\n",
        "are_jesus_and_fırat_same_age = jesus == fırat\n",
        "are_all_younger_than_50 = (jesus < 50) and (fırat < 50) and (vildan < 50)\n",
        "\n",
        "print(is_jesus_older_than_vildan, are_jesus_and_fırat_same_age , are_all_younger_than_50)"
      ],
      "metadata": {
        "colab": {
          "base_uri": "https://localhost:8080/"
        },
        "id": "lWtJBxGgxl7N",
        "outputId": "e152337a-af1e-483c-de3b-7cb3f70ebc64"
      },
      "execution_count": 9,
      "outputs": [
        {
          "output_type": "stream",
          "name": "stdout",
          "text": [
            "True False True\n"
          ]
        }
      ]
    },
    {
      "cell_type": "code",
      "source": [
        "#soru 3: Kullanıcıdan iki değer alıp işlemler yapmak.\n",
        "x = float(input(\"Birinci sayıyı girin: \"))\n",
        "y = int(input(\"İkinci sayıyı girin: \"))\n",
        "\n",
        "# İşlemler\n",
        "toplam = x + y\n",
        "fark = x - y\n",
        "carpim = x * y\n",
        "bolum = x / y if y != 0 else \"Sıfıra bölünemez\"\n",
        "\n",
        "print(toplam)\n",
        "print(fark)\n",
        "print(carpim)\n",
        "print(bolum)"
      ],
      "metadata": {
        "colab": {
          "base_uri": "https://localhost:8080/"
        },
        "id": "GcuMmImi4Jnc",
        "outputId": "f7ca7e56-2d50-4f9b-e381-6e382b37ea5c"
      },
      "execution_count": 7,
      "outputs": [
        {
          "output_type": "stream",
          "name": "stdout",
          "text": [
            "Birinci sayıyı girin: 7.8\n",
            "İkinci sayıyı girin: 21\n",
            "28.8\n",
            "-13.2\n",
            "163.79999999999998\n",
            "0.37142857142857144\n"
          ]
        }
      ]
    },
    {
      "cell_type": "code",
      "source": [
        "#soru 4: Kullanıcıdan isim, yaş, şehir ve meslek bilgileri alıp yazdırmak.\n",
        "isim = input(\"İsminiz nedir? \")\n",
        "yas = input(\"Yaşınız nedir? \")\n",
        "sehir = input(\"Hangi şehirde yaşıyorsunuz? \")\n",
        "meslek = input(\"Mesleğiniz nedir? \")\n",
        "\n",
        "print(f\"İsim: {isim}, Yaş: {yas}, Şehir: {sehir}, Meslek: {meslek}\")"
      ],
      "metadata": {
        "colab": {
          "base_uri": "https://localhost:8080/"
        },
        "id": "d1gMoM_WxUDr",
        "outputId": "b1ac34b7-1b1b-4b44-8cf2-0d4ffe61d93e"
      },
      "execution_count": 9,
      "outputs": [
        {
          "output_type": "stream",
          "name": "stdout",
          "text": [
            "İsminiz nedir? ali\n",
            "Yaşınız nedir? 34\n",
            "Hangi şehirde yaşıyorsunuz? adana\n",
            "Mesleğiniz nedir? işçi\n",
            "İsim: ali, Yaş: 34, Şehir: adana, Meslek: işçi\n"
          ]
        }
      ]
    },
    {
      "cell_type": "code",
      "source": [
        "#soru 5: \"Hi-Kod Veri Bilimi Atölyesi\" ifadesini değişkene tanımlayıp işlemler yapmak\n",
        "ifade = \"Hi-Kod Veri Bilimi Atölyesi\"\n",
        "\n",
        "# Her kelimeyi seçmek\n",
        "hi_kod = ifade[0:6]\n",
        "veri = ifade[7:11]\n",
        "bilimi = ifade[12:18]\n",
        "atolyesi = ifade[19:]\n",
        "\n",
        "# Büyük harf ve küçük harf işlemleri\n",
        "buyuk_harf_ifade = ifade.upper()\n",
        "kucuk_harf_ifade = ifade.lower()\n",
        "\n",
        "print(hi_kod, veri, bilimi, atolyesi)\n",
        "print(buyuk_harf_ifade)\n",
        "print(kucuk_harf_ifade)\n",
        "\n",
        "sayilar = \"0123456789\"\n",
        "\n",
        "# Çift ve tek sayıları seçme\n",
        "cift_sayilar = sayilar[::2]  # 02468\n",
        "tek_sayilar = sayilar[1::2]  # 13579\n",
        "\n",
        "print(\"Çift sayılar:\", cift_sayilar)\n",
        "print(\"Tek sayılar:\", tek_sayilar)"
      ],
      "metadata": {
        "colab": {
          "base_uri": "https://localhost:8080/"
        },
        "id": "cHIMUNEyzJHy",
        "outputId": "b6b8c8b9-26d4-4cb1-c96e-519322b0f7b8"
      },
      "execution_count": 11,
      "outputs": [
        {
          "output_type": "stream",
          "name": "stdout",
          "text": [
            "Hi-Kod Veri Bilimi Atölyesi\n",
            "HI-KOD VERI BILIMI ATÖLYESI\n",
            "hi-kod veri bilimi atölyesi\n",
            "Çift sayılar: 02468\n",
            "Tek sayılar: 13579\n"
          ]
        }
      ]
    }
  ]
}