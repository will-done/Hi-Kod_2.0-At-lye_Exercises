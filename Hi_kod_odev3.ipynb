{
  "cells": [
    {
      "cell_type": "code",
      "source": [
        "#soru 1: dairenin alanını hesaplama\n",
        "def daire_alani(pi, yaricap):\n",
        "  alan = pi * yaricap ** 2\n",
        "  return alan\n",
        "\n",
        "#kullanıcıdan pi değeri ve yariçap bilgisi alınır.\n",
        "pi_degeri = float(input(\"Pi değerini girin: \"))\n",
        "yaricap = float(input(\"Yarıçapı girin: \"))\n",
        "\n",
        "#dairenin alanı hesaplanır ve akrana yazdırılır\n",
        "alan = daire_alani(pi_degeri, yaricap)\n",
        "print(f\"Dairenin alanı: {alan}\")"
      ],
      "metadata": {
        "colab": {
          "base_uri": "https://localhost:8080/"
        },
        "id": "0EOMeaNlMlmh",
        "outputId": "915cde81-c55e-4879-c736-5cbeb69e840c"
      },
      "execution_count": 9,
      "outputs": [
        {
          "output_type": "stream",
          "name": "stdout",
          "text": [
            "Pi değerini grin: 6\n",
            "Yarıçapı girin: 6\n",
            "Dairenin alanı: 216.0\n"
          ]
        }
      ]
    },
    {
      "cell_type": "code",
      "source": [
        "#soru 2: Faktöriyel hesaplama sorusu\n",
        "def faktoriyel(sayi):\n",
        "  sonuc =1\n",
        "  for i in range(1, sayi + 1):\n",
        "    sonuc *= i\n",
        "  return sonuc\n",
        "\n",
        "#kullanıcıdan sayı bilgisi alınır\n",
        "sayi = int(input(\"faktöriyelini hesaplamak istediğiniz sayıyı girin: \"))\n",
        "faktoryel_sonuc = faktoriyel(sayi)\n",
        "print(\"Girilen sayısının faktöriyeli: {}\".format(faktoryel_sonuc))"
      ],
      "metadata": {
        "colab": {
          "base_uri": "https://localhost:8080/"
        },
        "id": "2-WzQbhGOnZ-",
        "outputId": "1889981a-b501-4dbc-ad9d-f6355de0370c"
      },
      "execution_count": 11,
      "outputs": [
        {
          "output_type": "stream",
          "name": "stdout",
          "text": [
            "faktöriyelini hesaplamak istediğiniz sayıyı girin: 7\n",
            "Girilen sayısının faktöriyeli: 5040\n"
          ]
        }
      ]
    },
    {
      "cell_type": "code",
      "source": [
        "#soru 3: doğum yılı hesağlama fonksiyonu\n",
        "def yas_hesapla(dogum_yili):\n",
        "  suanki_yil = 2024\n",
        "  yas = suanki_yil - dogum_yili\n",
        "  return yas\n",
        "\n",
        "#kullanıcıdan doğum yılı bilgisi alınır\n",
        "dogum_yili =int(input(\"Doğum yılınızı girin: \"))\n",
        "yas = yas_hesapla(dogum_yili)\n",
        "print(f\"Şu anda {yas} yaşındasınız.\")"
      ],
      "metadata": {
        "colab": {
          "base_uri": "https://localhost:8080/"
        },
        "id": "5JKVhf0nPp-s",
        "outputId": "a5bca39e-7a4c-4466-a8e7-275c0193afb4"
      },
      "execution_count": 12,
      "outputs": [
        {
          "output_type": "stream",
          "name": "stdout",
          "text": [
            "Doğum yılınızı girin: 2001\n",
            "Şu anda 23 yaşındasınız.\n"
          ]
        }
      ]
    },
    {
      "cell_type": "code",
      "source": [
        "#soru 4: emekli olma durumu\n",
        "def yas_hesapla(dogum_yili):\n",
        "    suanki_yil = 2024\n",
        "    yas = suanki_yil - dogum_yili\n",
        "    print(f\"Hesaplanan yaş: {yas}\")\n",
        "    return yas\n",
        "\n",
        "# Emeklilik durumunu kontrol eden fonksiyon\n",
        "def emeklilik_durumu(isim, dogum_yili):\n",
        "    yas = yas_hesapla(dogum_yili)\n",
        "    print(f\"{isim}'in yaşı: {yas}\")\n",
        "\n",
        "    if yas >= 65:\n",
        "        print(f\"{isim}, emekli oldunuz.\")\n",
        "    else:\n",
        "        kalan_yil = 65 - yas\n",
        "        print(f\"{isim}, emekliliğinize {kalan_yil} yıl kaldı.\")\n",
        "\n",
        "# Kullanıcıdan isim ve doğum yılı bilgisi alınır\n",
        "isim = input(\"İsminizi girin: \")\n",
        "dogum_yili = int(input(\"Doğum yılınızı girin: \"))\n",
        "\n",
        "# Emeklilik durumu hesaplanır ve ekrana yazdırılır\n",
        "print(\"Emeklilik durumu hesaplanıyor...\")\n",
        "emeklilik_durumu(isim, dogum_yili)"
      ],
      "metadata": {
        "colab": {
          "base_uri": "https://localhost:8080/"
        },
        "id": "UmBQGzouR1cy",
        "outputId": "fb22d4fa-c497-4256-e571-cdf327d98e38"
      },
      "execution_count": 17,
      "outputs": [
        {
          "output_type": "stream",
          "name": "stdout",
          "text": [
            "İsminizi girin: vildan\n",
            "Doğum yılınızı girin: 2001\n",
            "Emeklilik durumu hesaplanıyor...\n",
            "Hesaplanan yaş: 23\n",
            "vildan'in yaşı: 23\n",
            "vildan, emekliliğinize 42 yıl kaldı.\n"
          ]
        }
      ]
    }
  ],
  "metadata": {
    "colab": {
      "provenance": []
    },
    "kernelspec": {
      "display_name": "Python 3",
      "name": "python3"
    },
    "language_info": {
      "name": "python"
    }
  },
  "nbformat": 4,
  "nbformat_minor": 0
}