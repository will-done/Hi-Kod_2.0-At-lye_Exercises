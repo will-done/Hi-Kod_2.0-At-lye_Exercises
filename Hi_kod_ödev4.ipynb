{
  "nbformat": 4,
  "nbformat_minor": 0,
  "metadata": {
    "colab": {
      "provenance": [],
      "toc_visible": true
    },
    "kernelspec": {
      "name": "python3",
      "display_name": "Python 3"
    },
    "language_info": {
      "name": "python"
    }
  },
  "cells": [
    {
      "cell_type": "code",
      "source": [
        "#soru 1:\n",
        "# Liste tanımlaması\n",
        "liste = [\"Python\", True, 9, \"3\", 8.4, \"Hi-Kod\", \"False\", 4.7]\n",
        "\n",
        "# \"3\" değerine ulaşmak için indexleme\n",
        "print(liste[3])\n",
        "\n",
        "# \"Hi-Kod\" değerine ulaşmak için indexleme\n",
        "print(liste[5])\n",
        "\n",
        "# 4.7 değerine ulaşmak için indexleme\n",
        "print(liste[7])\n",
        "\n",
        "# 9, \"3\", 8.4, \"Hi-Kod\" değerlerine ulaşmak için slicing\n",
        "print(liste[2:6])\n",
        "\n",
        "# 8.4, \"Hi-Kod\", \"False\", 4.7 değerlerine ulaşmak için slicing\n",
        "print(liste[4:8])\n"
      ],
      "metadata": {
        "colab": {
          "base_uri": "https://localhost:8080/"
        },
        "id": "fL5zgQ3N95d6",
        "outputId": "27d8d57c-4bb1-4408-c371-f4526b2a25e2"
      },
      "execution_count": 1,
      "outputs": [
        {
          "output_type": "stream",
          "name": "stdout",
          "text": [
            "3\n",
            "Hi-Kod\n",
            "4.7\n",
            "[9, '3', 8.4, 'Hi-Kod']\n",
            "[8.4, 'Hi-Kod', 'False', 4.7]\n"
          ]
        }
      ]
    },
    {
      "cell_type": "code",
      "source": [
        "# soru 2:\n",
        "\n",
        "liste = [\"Python\", True, 9, \"3\", 8.4, \"Hi-Kod\", \"False\", 4.7]\n",
        "\n",
        "yeni_liste = []\n",
        "\n",
        "# Döngü ile listedeki string tipinde olanları yeni_liste'ye ekleme yapıyoruz.\n",
        "for eleman in liste:\n",
        "    if isinstance(eleman, str):  # Elemanın veri tipi string mi diye kontrol\n",
        "        yeni_liste.append(eleman)\n",
        "\n",
        "print(yeni_liste)\n"
      ],
      "metadata": {
        "colab": {
          "base_uri": "https://localhost:8080/"
        },
        "id": "yZKpYMBR-RBl",
        "outputId": "4811f185-7c50-41fd-f2bb-3706ea3f0c9c"
      },
      "execution_count": 2,
      "outputs": [
        {
          "output_type": "stream",
          "name": "stdout",
          "text": [
            "['Python', '3', 'Hi-Kod', 'False']\n"
          ]
        }
      ]
    },
    {
      "cell_type": "code",
      "source": [
        "# soru 3:\n",
        "# liste\n",
        "meyveler = [\"Elma\", \"Kiraz\", \"Erik\", \"Muz\", \"Portakal\"]\n",
        "\n",
        "# Enumerate ile index ve meyve elemanlarına aynı anda ulaşma\n",
        "for index, meyve in enumerate(meyveler):\n",
        "    print(\"{}. indexteki  meyvemiz: {}\".format(index, meyve))\n"
      ],
      "metadata": {
        "colab": {
          "base_uri": "https://localhost:8080/"
        },
        "id": "JMciYtmcAFCt",
        "outputId": "47b952fa-726e-468e-f36a-19b47066a833"
      },
      "execution_count": 4,
      "outputs": [
        {
          "output_type": "stream",
          "name": "stdout",
          "text": [
            "0. indexteki  meyvemiz: Elma\n",
            "1. indexteki  meyvemiz: Kiraz\n",
            "2. indexteki  meyvemiz: Erik\n",
            "3. indexteki  meyvemiz: Muz\n",
            "4. indexteki  meyvemiz: Portakal\n"
          ]
        }
      ]
    }
  ]
}