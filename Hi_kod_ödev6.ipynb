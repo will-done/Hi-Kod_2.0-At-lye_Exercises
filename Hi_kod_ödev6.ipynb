{
  "nbformat": 4,
  "nbformat_minor": 0,
  "metadata": {
    "colab": {
      "provenance": []
    },
    "kernelspec": {
      "name": "python3",
      "display_name": "Python 3"
    },
    "language_info": {
      "name": "python"
    }
  },
  "cells": [
    {
      "cell_type": "code",
      "source": [
        "#soru 1:\n",
        "import numpy as np\n",
        "#array oluşturma\n",
        "array = np.array([10,15,20,25,30,35], dtype= int)\n",
        "\n",
        "print(f\"Array: {array}\")\n",
        "print(f\"Array'in boyutu: {  array.ndim}\")\n",
        "print(f\"Array'in satır ve sütun sayısı: {array.shape}\")\n",
        "print(f\"Array'deki eleman sayısı: {  array.size}\")\n"
      ],
      "metadata": {
        "colab": {
          "base_uri": "https://localhost:8080/"
        },
        "id": "UJDnyCDIO6Ab",
        "outputId": "88dd15f8-b530-4f0d-b463-b5d2fd52edcd"
      },
      "execution_count": 4,
      "outputs": [
        {
          "output_type": "stream",
          "name": "stdout",
          "text": [
            "Array: [10 15 20 25 30 35]\n",
            "Array'in boyutu: 1\n",
            "Array'in satır ve sütun sayısı: (6,)\n",
            "Array'deki eleman sayısı: 6\n"
          ]
        }
      ]
    },
    {
      "cell_type": "code",
      "source": [
        "#soru 2:\n",
        "# iki boyutlu integer array oluşturma ve bilgilere erişme\n",
        "array_2d = np.array([[1,2,3],[4,5,6],[7,8,9]], dtype = int)\n",
        "print(f\"Array: {array_2d}\")\n",
        "print(f\"Array'in boyutu: {  array_2d.ndim}\")\n",
        "print(f\"Array'in eleman sayısı: {array_2d.size}\")\n",
        "print(f\"Array'in satır ve sütun sayısı: {array_2d.shape}\")"
      ],
      "metadata": {
        "colab": {
          "base_uri": "https://localhost:8080/"
        },
        "id": "tcQXPm7SRW1L",
        "outputId": "df058244-30b5-41e6-d50e-6ef76811cd7c"
      },
      "execution_count": 5,
      "outputs": [
        {
          "output_type": "stream",
          "name": "stdout",
          "text": [
            "Array: [[1 2 3]\n",
            " [4 5 6]\n",
            " [7 8 9]]\n",
            "Array'in boyutu: 2\n",
            "Array'in eleman sayısı: 9\n",
            "Array'in satır ve sütun sayısı: (3, 3)\n"
          ]
        }
      ]
    },
    {
      "cell_type": "code",
      "source": [
        "# 2D Array'den belirli bir elemanı seçmek\n",
        "eleman = array_2d[1, 1]  # 1. satır ve 2. sütundaki eleman (6)\n",
        "print(f\"Seçilen eleman: {eleman}\")\n",
        "\n",
        "dilim = array_2d[:2, 2]  # İlk iki satır, 1. sütun\n",
        "print(f\"Dilimlenmiş array: \\n{dilim}\")"
      ],
      "metadata": {
        "colab": {
          "base_uri": "https://localhost:8080/"
        },
        "id": "nkmzI0KNS2Tt",
        "outputId": "43c37112-c2f8-48b2-b33b-327cff0115fd"
      },
      "execution_count": 6,
      "outputs": [
        {
          "output_type": "stream",
          "name": "stdout",
          "text": [
            "Seçilen eleman: 5\n",
            "Dilimlenmiş array: \n",
            "[3 6]\n"
          ]
        }
      ]
    },
    {
      "cell_type": "code",
      "source": [
        "# Üç boyutlu integer array oluşturma\n",
        "array_3d = np.array([[[1, 2, 3], [4, 5, 6]],\n",
        "                     [[7, 8, 9], [10, 11, 12]]], dtype=int)\n",
        "\n",
        "print(f\"3D Array: \\n{array_3d}\")\n",
        "print(f\"Array'in boyutu: {array_3d.ndim}\")\n",
        "print(f\"Array'in eleman sayısı: {array_3d.size}\")\n",
        "print(f\"Array'in boyut bilgisi (derinlik, satır, sütun): {array_3d.shape}\")\n"
      ],
      "metadata": {
        "colab": {
          "base_uri": "https://localhost:8080/"
        },
        "id": "UUUf5gvbUDyb",
        "outputId": "fe6d68ab-9443-4f61-8fdc-bbe60c99a1ef"
      },
      "execution_count": 7,
      "outputs": [
        {
          "output_type": "stream",
          "name": "stdout",
          "text": [
            "3D Array: \n",
            "[[[ 1  2  3]\n",
            "  [ 4  5  6]]\n",
            "\n",
            " [[ 7  8  9]\n",
            "  [10 11 12]]]\n",
            "Array'in boyutu: 3\n",
            "Array'in eleman sayısı: 12\n",
            "Array'in boyut bilgisi (derinlik, satır, sütun): (2, 2, 3)\n"
          ]
        }
      ]
    },
    {
      "cell_type": "code",
      "source": [
        "# 3D Array'den belirli bir eleman seçmek\n",
        "eleman_3d = array_3d[1, 1, 0]\n",
        "print(f\"3D Array'den seçilen eleman: {eleman_3d}\")\n",
        "\n",
        "# 3D Array'in ilk derinliğindeki tüm satırları ve sütunları seçme\n",
        "dilim_3d = array_3d[1, :, :]  # İlk derinlik, tüm satırlar ve sütunlar\n",
        "print(f\"3D Array'in ilk derinliği: \\n{dilim_3d}\")\n",
        "\n"
      ],
      "metadata": {
        "colab": {
          "base_uri": "https://localhost:8080/"
        },
        "id": "A56xciJsUPN_",
        "outputId": "6e93e6c9-d57d-41b5-9dc5-f2ba917a8061"
      },
      "execution_count": 8,
      "outputs": [
        {
          "output_type": "stream",
          "name": "stdout",
          "text": [
            "3D Array'den seçilen eleman: 10\n",
            "3D Array'in ilk derinliği: \n",
            "[[ 7  8  9]\n",
            " [10 11 12]]\n"
          ]
        }
      ]
    },
    {
      "cell_type": "code",
      "source": [
        "#soru 3:\n",
        "#a)  Bir boyutlu array oluşturma\n",
        "import numpy as np\n",
        "array_1d = np.arange(10)  # 0'dan 9'a kadar olan sayılar\n",
        "print(f\"1D Array: {array_1d}\")\n",
        "# Indexleme\n",
        "eleman_1d = array_1d[5]\n",
        "print(f\"5. indeksdeki eleman: {eleman_1d}\")\n",
        "# Slicing\n",
        "dilim_1d = array_1d[3:7]\n",
        "print(f\"3-6 arası dilim: {dilim_1d}\")\n"
      ],
      "metadata": {
        "colab": {
          "base_uri": "https://localhost:8080/"
        },
        "id": "AjJnsfWtU7m0",
        "outputId": "723e47fa-60f3-40ca-901e-0d55880c6d5d"
      },
      "execution_count": 9,
      "outputs": [
        {
          "output_type": "stream",
          "name": "stdout",
          "text": [
            "1D Array: [0 1 2 3 4 5 6 7 8 9]\n",
            "5. indeksdeki eleman: 5\n",
            "3-6 arası dilim: [3 4 5 6]\n"
          ]
        }
      ]
    },
    {
      "cell_type": "code",
      "source": [
        "#b) iki boyutlu array oluşturma ve indexleme slicing yapma\n",
        "\n",
        "array_2d = np.random.randint(1, 10, size=(2, 6))\n",
        "print(f\"2D Array: \\n{array_2d}\")\n",
        "\n",
        "# Indexleme\n",
        "eleman_2d = array_2d[1, 5]\n",
        "print(f\"1. satır, 3. sütundaki eleman: {eleman_2d}\")\n",
        "# Dilimleme\n",
        "dilim_2d = array_2d[1, :]\n",
        "print(f\"İlk satırın tamamı: {dilim_2d}\")\n",
        "# Dilimleme\n",
        "dilim_2d_2 = array_2d[:, 1:4]\n",
        "print(f\"Tüm satırlardan 1., 2. ve 3. sütunlar: \\n{dilim_2d_2}\")\n"
      ],
      "metadata": {
        "colab": {
          "base_uri": "https://localhost:8080/"
        },
        "id": "yLdL5H03Vxyn",
        "outputId": "aa73f0aa-3d3f-4e5a-b663-1b3ab7ca8b9e"
      },
      "execution_count": 10,
      "outputs": [
        {
          "output_type": "stream",
          "name": "stdout",
          "text": [
            "2D Array: \n",
            "[[2 6 3 7 1 6]\n",
            " [9 3 1 2 8 6]]\n",
            "1. satır, 3. sütundaki eleman: 6\n",
            "İlk satırın tamamı: [9 3 1 2 8 6]\n",
            "Tüm satırlardan 1., 2. ve 3. sütunlar: \n",
            "[[6 3 7]\n",
            " [3 1 2]]\n"
          ]
        }
      ]
    },
    {
      "cell_type": "code",
      "source": [
        "#c) üç boyutlu array için aynı işlemler\n",
        "\n",
        "array_3d = np.random.randint(1, 10, size=(2, 4, 4))\n",
        "print(f\"3D Array: \\n{array_3d}\")\n",
        "\n",
        "# Indexleme\n",
        "eleman_3d = array_3d[1, 3, 3]\n",
        "print(f\"1. derinlik, 3. satır, 3. sütundaki eleman: {eleman_3d}\")\n",
        "\n",
        "# Dilimleme\n",
        "dilim_3d = array_3d[1, :, :]\n",
        "print(f\"1. derinlikteki tüm satır ve sütunlar: \\n{dilim_3d}\")\n",
        "\n",
        "# Dilimleme\n",
        "dilim_3d_2 = array_3d[0, 1:3, 1:3]\n",
        "print(f\"İlk derinlikteki 1. ve 2. satırlardaki 1. ve 2. sütunlar: \\n{dilim_3d_2}\")\n"
      ],
      "metadata": {
        "colab": {
          "base_uri": "https://localhost:8080/"
        },
        "id": "oKJFv0S7W6hS",
        "outputId": "a2185e35-f4f4-4269-ecd9-2de51529c2c0"
      },
      "execution_count": 15,
      "outputs": [
        {
          "output_type": "stream",
          "name": "stdout",
          "text": [
            "3D Array: \n",
            "[[[1 4 6 4]\n",
            "  [6 4 2 1]\n",
            "  [6 7 5 7]\n",
            "  [3 8 5 1]]\n",
            "\n",
            " [[6 2 6 7]\n",
            "  [4 2 9 3]\n",
            "  [5 9 8 9]\n",
            "  [1 3 9 2]]]\n",
            "1. derinlik, 3. satır, 3. sütundaki eleman: 2\n",
            "1. derinlikteki tüm satır ve sütunlar: \n",
            "[[6 2 6 7]\n",
            " [4 2 9 3]\n",
            " [5 9 8 9]\n",
            " [1 3 9 2]]\n",
            "İlk derinlikteki 1. ve 2. satırlardaki 1. ve 2. sütunlar: \n",
            "[[4 2]\n",
            " [7 5]]\n"
          ]
        }
      ]
    },
    {
      "cell_type": "code",
      "source": [
        "#soru 4:\n",
        "import numpy as np\n",
        "\n",
        "# 3x3 boyutunda sıfırlardan oluşan iki boyutlu array\n",
        "zeros_array = np.zeros((3, 3), dtype=int)\n",
        "print(f\"Sıfırlardan oluşan array: \\n{zeros_array}\")\n",
        "\n",
        "# 3x3 boyutunda birlerden oluşan iki boyutlu array\n",
        "ones_array = np.ones((3, 3), dtype=int)\n",
        "print(f\"Birlerden oluşan array: \\n{ones_array}\")\n"
      ],
      "metadata": {
        "colab": {
          "base_uri": "https://localhost:8080/"
        },
        "id": "X19Ib1Jj1pXO",
        "outputId": "b9731aa0-8b48-4940-954d-e2825d6107af"
      },
      "execution_count": 16,
      "outputs": [
        {
          "output_type": "stream",
          "name": "stdout",
          "text": [
            "Sıfırlardan oluşan array: \n",
            "[[0 0 0]\n",
            " [0 0 0]\n",
            " [0 0 0]]\n",
            "Birlerden oluşan array: \n",
            "[[1 1 1]\n",
            " [1 1 1]\n",
            " [1 1 1]]\n"
          ]
        }
      ]
    },
    {
      "cell_type": "code",
      "source": [
        "# Satır bazında birleştirme\n",
        "satir_birlesim = np.vstack((zeros_array, ones_array))\n",
        "print(f\"Satır bazında birleştirilmiş array: \\n{satir_birlesim}\")\n",
        "\n",
        "# Sütun bazında birleştirme\n",
        "sutun_birlesim = np.hstack((zeros_array, ones_array))\n",
        "print(f\"Sütun bazında birleştirilmiş array: \\n{sutun_birlesim}\")\n"
      ],
      "metadata": {
        "colab": {
          "base_uri": "https://localhost:8080/"
        },
        "id": "hr_sb4Pq2CCY",
        "outputId": "1d54b770-0a8a-4c27-a8d8-0bc23323f5be"
      },
      "execution_count": 17,
      "outputs": [
        {
          "output_type": "stream",
          "name": "stdout",
          "text": [
            "Satır bazında birleştirilmiş array: \n",
            "[[0 0 0]\n",
            " [0 0 0]\n",
            " [0 0 0]\n",
            " [1 1 1]\n",
            " [1 1 1]\n",
            " [1 1 1]]\n",
            "Sütun bazında birleştirilmiş array: \n",
            "[[0 0 0 1 1 1]\n",
            " [0 0 0 1 1 1]\n",
            " [0 0 0 1 1 1]]\n"
          ]
        }
      ]
    }
  ]
}